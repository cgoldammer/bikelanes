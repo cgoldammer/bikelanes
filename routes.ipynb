{
 "cells": [
  {
   "cell_type": "code",
   "execution_count": 4,
   "metadata": {},
   "outputs": [
    {
     "data": {
      "text/plain": [
       "<module 'functions' from '/Users/cg/Dropbox/code/Python/bikemapillary/functions.py'>"
      ]
     },
     "execution_count": 4,
     "metadata": {},
     "output_type": "execute_result"
    }
   ],
   "source": [
    "import functions as f\n",
    "import geopandas as gpd\n",
    "import imp\n",
    "imp.reload(f)"
   ]
  },
  {
   "cell_type": "code",
   "execution_count": 25,
   "metadata": {},
   "outputs": [],
   "source": [
    "import geopandas as gpd\n",
    "from shapely.wkt import loads\n",
    "import re\n",
    "\n",
    "simpledec = re.compile(r\"\\d*\\.\\d+\")\n",
    "def mround(match):\n",
    "    return \"{:.5f}\".format(float(match.group()))"
   ]
  },
  {
   "cell_type": "code",
   "execution_count": 38,
   "metadata": {},
   "outputs": [
    {
     "data": {
      "text/plain": [
       "{'full': 61363, 'round': 53994, 'just_geo': 26768, 'just_geo_round': 19904}"
      ]
     },
     "execution_count": 38,
     "metadata": {},
     "output_type": "execute_result"
    }
   ],
   "source": [
    "df_raw = df_streets_raw.sample(100)\n",
    "df_round = df_raw.copy()\n",
    "df_round.geometry = df_round.geometry.apply(lambda x: loads(re.sub(simpledec, mround, x.wkt)))\n",
    "js_raw = df_raw.to_json()\n",
    "js_round = df_round.to_json()\n",
    "\n",
    "vals = {}\n",
    "vals['full'] = len(js_raw)\n",
    "vals['round'] = len(js_5)\n",
    "vals['just_geo'] = len(df_raw[['geometry']].to_json())\n",
    "vals['just_geo_round'] = len(df_round[['geometry']].to_json())\n",
    "vals"
   ]
  },
  {
   "cell_type": "code",
   "execution_count": 42,
   "metadata": {},
   "outputs": [],
   "source": [
    "df_small = df_streets_raw.copy()\n",
    "df_small.geometry = df_small.geometry.apply(lambda x: loads(re.sub(simpledec, mround, x.wkt)))\n",
    "with open('docs/nyc_bikeroutes_small.geojson', 'w') as f:\n",
    "    f.write(df_small[['geometry']].to_json())"
   ]
  },
  {
   "cell_type": "code",
   "execution_count": 40,
   "metadata": {},
   "outputs": [
    {
     "data": {
      "text/html": [
       "<div>\n",
       "<style scoped>\n",
       "    .dataframe tbody tr th:only-of-type {\n",
       "        vertical-align: middle;\n",
       "    }\n",
       "\n",
       "    .dataframe tbody tr th {\n",
       "        vertical-align: top;\n",
       "    }\n",
       "\n",
       "    .dataframe thead th {\n",
       "        text-align: right;\n",
       "    }\n",
       "</style>\n",
       "<table border=\"1\" class=\"dataframe\">\n",
       "  <thead>\n",
       "    <tr style=\"text-align: right;\">\n",
       "      <th></th>\n",
       "      <th>bikedir</th>\n",
       "      <th>fromstreet</th>\n",
       "      <th>lanecount</th>\n",
       "      <th>facilitycl</th>\n",
       "      <th>ft2facilit</th>\n",
       "      <th>tf2facilit</th>\n",
       "      <th>tostreet</th>\n",
       "      <th>tf_facilit</th>\n",
       "      <th>shape_leng</th>\n",
       "      <th>allclasses</th>\n",
       "      <th>onoffst</th>\n",
       "      <th>ft_facilit</th>\n",
       "      <th>boro</th>\n",
       "      <th>street</th>\n",
       "      <th>segmentid</th>\n",
       "      <th>comments</th>\n",
       "      <th>geometry</th>\n",
       "    </tr>\n",
       "  </thead>\n",
       "  <tbody>\n",
       "    <tr>\n",
       "      <th>2722</th>\n",
       "      <td>2</td>\n",
       "      <td>E HOUSTON ST</td>\n",
       "      <td>2</td>\n",
       "      <td>I</td>\n",
       "      <td>NaN</td>\n",
       "      <td>NaN</td>\n",
       "      <td>RIVINGTON ST</td>\n",
       "      <td>Protected Path</td>\n",
       "      <td>460.202124969</td>\n",
       "      <td>I</td>\n",
       "      <td>ON</td>\n",
       "      <td>Protected Path</td>\n",
       "      <td>1</td>\n",
       "      <td>CHRYSTIE ST</td>\n",
       "      <td>32486</td>\n",
       "      <td>NaN</td>\n",
       "      <td>None</td>\n",
       "    </tr>\n",
       "  </tbody>\n",
       "</table>\n",
       "</div>"
      ],
      "text/plain": [
       "     bikedir    fromstreet lanecount facilitycl ft2facilit tf2facilit  \\\n",
       "2722       2  E HOUSTON ST         2          I        NaN        NaN   \n",
       "\n",
       "          tostreet      tf_facilit     shape_leng allclasses onoffst  \\\n",
       "2722  RIVINGTON ST  Protected Path  460.202124969          I      ON   \n",
       "\n",
       "          ft_facilit boro       street segmentid comments geometry  \n",
       "2722  Protected Path    1  CHRYSTIE ST     32486      NaN     None  "
      ]
     },
     "execution_count": 40,
     "metadata": {},
     "output_type": "execute_result"
    }
   ],
   "source": [
    "df_small.sample(1)"
   ]
  },
  {
   "cell_type": "code",
   "execution_count": null,
   "metadata": {},
   "outputs": [],
   "source": []
  }
 ],
 "metadata": {
  "kernelspec": {
   "display_name": ".venv",
   "language": "python",
   "name": "python3"
  },
  "language_info": {
   "codemirror_mode": {
    "name": "ipython",
    "version": 3
   },
   "file_extension": ".py",
   "mimetype": "text/x-python",
   "name": "python",
   "nbconvert_exporter": "python",
   "pygments_lexer": "ipython3",
   "version": "3.11.5"
  }
 },
 "nbformat": 4,
 "nbformat_minor": 2
}
