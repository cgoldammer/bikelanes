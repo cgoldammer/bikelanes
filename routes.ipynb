{
 "cells": [
  {
   "cell_type": "code",
   "execution_count": 4,
   "metadata": {},
   "outputs": [
    {
     "data": {
      "text/plain": [
       "<module 'functions' from '/Users/cg/Dropbox/code/Python/bikemapillary/functions.py'>"
      ]
     },
     "execution_count": 4,
     "metadata": {},
     "output_type": "execute_result"
    }
   ],
   "source": [
    "import functions as f\n",
    "import geopandas as gpd\n",
    "import imp\n",
    "imp.reload(f)"
   ]
  },
  {
   "cell_type": "code",
   "execution_count": 25,
   "metadata": {},
   "outputs": [],
   "source": [
    "import geopandas as gpd\n",
    "from shapely.wkt import loads\n",
    "import re\n",
    "\n",
    "simpledec = re.compile(r\"\\d*\\.\\d+\")\n",
    "def mround(match):\n",
    "    return \"{:.5f}\".format(float(match.group()))"
   ]
  },
  {
   "cell_type": "code",
   "execution_count": 38,
   "metadata": {},
   "outputs": [
    {
     "data": {
      "text/plain": [
       "{'full': 61363, 'round': 53994, 'just_geo': 26768, 'just_geo_round': 19904}"
      ]
     },
     "execution_count": 38,
     "metadata": {},
     "output_type": "execute_result"
    }
   ],
   "source": [
    "df_raw = df_streets_raw.sample(100)\n",
    "df_round = df_raw.copy()\n",
    "df_round.geometry = df_round.geometry.apply(lambda x: loads(re.sub(simpledec, mround, x.wkt)))\n",
    "js_raw = df_raw.to_json()\n",
    "js_round = df_round.to_json()\n",
    "\n",
    "vals = {}\n",
    "vals['full'] = len(js_raw)\n",
    "vals['round'] = len(js_5)\n",
    "vals['just_geo'] = len(df_raw[['geometry']].to_json())\n",
    "vals['just_geo_round'] = len(df_round[['geometry']].to_json())\n",
    "vals"
   ]
  },
  {
   "cell_type": "code",
   "execution_count": 39,
   "metadata": {},
   "outputs": [],
   "source": [
    "df_small = df_streets_raw.copy()\n",
    "df_small.geometry = df_round.geometry.apply(lambda x: loads(re.sub(simpledec, mround, x.wkt)))\n",
    "\n",
    "with open('docs/nyc_bikeroutes_small.geojson', 'w') as f:\n",
    "    f.write(df_small[['geometry']].to_json())"
   ]
  }
 ],
 "metadata": {
  "kernelspec": {
   "display_name": ".venv",
   "language": "python",
   "name": "python3"
  },
  "language_info": {
   "codemirror_mode": {
    "name": "ipython",
    "version": 3
   },
   "file_extension": ".py",
   "mimetype": "text/x-python",
   "name": "python",
   "nbconvert_exporter": "python",
   "pygments_lexer": "ipython3",
   "version": "3.11.5"
  }
 },
 "nbformat": 4,
 "nbformat_minor": 2
}
