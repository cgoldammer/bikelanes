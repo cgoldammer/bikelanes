{
 "cells": [
  {
   "cell_type": "code",
   "execution_count": 4,
   "metadata": {},
   "outputs": [
    {
     "data": {
      "text/plain": [
       "<module 'functions' from '/Users/cg/Dropbox/code/Python/bikemapillary/functions.py'>"
      ]
     },
     "execution_count": 4,
     "metadata": {},
     "output_type": "execute_result"
    }
   ],
   "source": [
    "import functions as f\n",
    "import geopandas as gpd\n",
    "import imp\n",
    "imp.reload(f)"
   ]
  },
  {
   "cell_type": "code",
   "execution_count": 25,
   "metadata": {},
   "outputs": [],
   "source": [
    "import geopandas as gpd\n",
    "from shapely.wkt import loads\n",
    "import re\n",
    "\n",
    "simpledec = re.compile(r\"\\d*\\.\\d+\")\n",
    "def mround(match):\n",
    "    return \"{:.5f}\".format(float(match.group()))"
   ]
  },
  {
   "cell_type": "code",
   "execution_count": 60,
   "metadata": {},
   "outputs": [
    {
     "data": {
      "text/plain": [
       "{'full': 62012,\n",
       " 'round': 53994,\n",
       " 'just_geo': 27458,\n",
       " 'just_geo_round': 20291,\n",
       " 'just_geo_simp': 22036}"
      ]
     },
     "execution_count": 60,
     "metadata": {},
     "output_type": "execute_result"
    }
   ],
   "source": [
    "df_raw = df_streets_raw.sample(100)\n",
    "df_round = df_raw.copy()\n",
    "df_round.geometry = df_round.geometry.apply(lambda x: loads(re.sub(simpledec, mround, x.wkt)))\n",
    "js_raw = df_raw.to_json()\n",
    "js_round = df_round.to_json()\n",
    "\n",
    "tolerance = 0.00001\n",
    "df_simp = df_raw.copy()\n",
    "df_simp.geometry = df_simp.geometry.apply(lambda x: x.simplify(tolerance))\n",
    "\n",
    "vals = {}\n",
    "vals['full'] = len(js_raw)\n",
    "vals['round'] = len(js_5)\n",
    "vals['just_geo'] = len(df_raw[['geometry']].to_json())\n",
    "vals['just_geo_round'] = len(df_round[['geometry']].to_json())\n",
    "vals['just_geo_simp'] = len(df_simp[['geometry']].to_json())\n",
    "vals"
   ]
  },
  {
   "cell_type": "code",
   "execution_count": 59,
   "metadata": {},
   "outputs": [
    {
     "data": {
      "text/plain": [
       "3816     LINESTRING (-73.95555 40.77265, -73.95319 40.7...\n",
       "15631    LINESTRING (-73.96433 40.79985, -73.96460 40.7...\n",
       "Name: geometry, dtype: geometry"
      ]
     },
     "execution_count": 59,
     "metadata": {},
     "output_type": "execute_result"
    }
   ],
   "source": [
    "df_simp.geometry.sample(2)"
   ]
  },
  {
   "cell_type": "code",
   "execution_count": 61,
   "metadata": {},
   "outputs": [],
   "source": [
    "df_small = df_streets_raw.copy()\n",
    "df_small.geometry = df_small.geometry.apply(lambda x: x.simplify(tolerance))\n",
    "with open('docs/nyc_bikeroutes_small.geojson', 'w') as f:\n",
    "    f.write(df_small[['geometry']].to_json())"
   ]
  },
  {
   "cell_type": "code",
   "execution_count": 45,
   "metadata": {},
   "outputs": [
    {
     "data": {
      "text/plain": [
       "21613    LINESTRING (-73.88664 40.90033, -73.88664 40.9...\n",
       "8696     LINESTRING (-73.87431 40.76047, -73.87427 40.7...\n",
       "17003    LINESTRING (-73.91765 40.80659, -73.91750 40.8...\n",
       "17089    LINESTRING (-73.89274 40.68367, -73.89282 40.6...\n",
       "21249    LINESTRING (-73.90677 40.85728, -73.90666 40.8...\n",
       "14475    LINESTRING (-73.93541 40.74719, -73.93510 40.7...\n",
       "9712     LINESTRING (-73.88818 40.69886, -73.88816 40.6...\n",
       "19427    LINESTRING (-73.94905 40.81099, -73.94915 40.8...\n",
       "5521     LINESTRING (-73.92279 40.77396, -73.92217 40.7...\n",
       "14501    LINESTRING (-73.97466 40.64776, -73.97350 40.6...\n",
       "dtype: geometry"
      ]
     },
     "execution_count": 45,
     "metadata": {},
     "output_type": "execute_result"
    }
   ],
   "source": []
  },
  {
   "cell_type": "code",
   "execution_count": 40,
   "metadata": {},
   "outputs": [
    {
     "data": {
      "text/html": [
       "<div>\n",
       "<style scoped>\n",
       "    .dataframe tbody tr th:only-of-type {\n",
       "        vertical-align: middle;\n",
       "    }\n",
       "\n",
       "    .dataframe tbody tr th {\n",
       "        vertical-align: top;\n",
       "    }\n",
       "\n",
       "    .dataframe thead th {\n",
       "        text-align: right;\n",
       "    }\n",
       "</style>\n",
       "<table border=\"1\" class=\"dataframe\">\n",
       "  <thead>\n",
       "    <tr style=\"text-align: right;\">\n",
       "      <th></th>\n",
       "      <th>bikedir</th>\n",
       "      <th>fromstreet</th>\n",
       "      <th>lanecount</th>\n",
       "      <th>facilitycl</th>\n",
       "      <th>ft2facilit</th>\n",
       "      <th>tf2facilit</th>\n",
       "      <th>tostreet</th>\n",
       "      <th>tf_facilit</th>\n",
       "      <th>shape_leng</th>\n",
       "      <th>allclasses</th>\n",
       "      <th>onoffst</th>\n",
       "      <th>ft_facilit</th>\n",
       "      <th>boro</th>\n",
       "      <th>street</th>\n",
       "      <th>segmentid</th>\n",
       "      <th>comments</th>\n",
       "      <th>geometry</th>\n",
       "    </tr>\n",
       "  </thead>\n",
       "  <tbody>\n",
       "    <tr>\n",
       "      <th>2722</th>\n",
       "      <td>2</td>\n",
       "      <td>E HOUSTON ST</td>\n",
       "      <td>2</td>\n",
       "      <td>I</td>\n",
       "      <td>NaN</td>\n",
       "      <td>NaN</td>\n",
       "      <td>RIVINGTON ST</td>\n",
       "      <td>Protected Path</td>\n",
       "      <td>460.202124969</td>\n",
       "      <td>I</td>\n",
       "      <td>ON</td>\n",
       "      <td>Protected Path</td>\n",
       "      <td>1</td>\n",
       "      <td>CHRYSTIE ST</td>\n",
       "      <td>32486</td>\n",
       "      <td>NaN</td>\n",
       "      <td>None</td>\n",
       "    </tr>\n",
       "  </tbody>\n",
       "</table>\n",
       "</div>"
      ],
      "text/plain": [
       "     bikedir    fromstreet lanecount facilitycl ft2facilit tf2facilit  \\\n",
       "2722       2  E HOUSTON ST         2          I        NaN        NaN   \n",
       "\n",
       "          tostreet      tf_facilit     shape_leng allclasses onoffst  \\\n",
       "2722  RIVINGTON ST  Protected Path  460.202124969          I      ON   \n",
       "\n",
       "          ft_facilit boro       street segmentid comments geometry  \n",
       "2722  Protected Path    1  CHRYSTIE ST     32486      NaN     None  "
      ]
     },
     "execution_count": 40,
     "metadata": {},
     "output_type": "execute_result"
    }
   ],
   "source": [
    "df_small.sample(1)"
   ]
  },
  {
   "cell_type": "code",
   "execution_count": null,
   "metadata": {},
   "outputs": [],
   "source": []
  }
 ],
 "metadata": {
  "kernelspec": {
   "display_name": ".venv",
   "language": "python",
   "name": "python3"
  },
  "language_info": {
   "codemirror_mode": {
    "name": "ipython",
    "version": 3
   },
   "file_extension": ".py",
   "mimetype": "text/x-python",
   "name": "python",
   "nbconvert_exporter": "python",
   "pygments_lexer": "ipython3",
   "version": "3.11.5"
  }
 },
 "nbformat": 4,
 "nbformat_minor": 2
}
