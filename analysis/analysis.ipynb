{
 "cells": [
  {
   "cell_type": "code",
   "execution_count": 13,
   "metadata": {},
   "outputs": [],
   "source": [
    "import functions\n",
    "import imp\n",
    "import pandas as pd\n",
    "import numpy as np"
   ]
  },
  {
   "cell_type": "code",
   "execution_count": 14,
   "metadata": {},
   "outputs": [],
   "source": [
    "df_coded = functions.get_df_coded()"
   ]
  },
  {
   "cell_type": "markdown",
   "metadata": {},
   "source": [
    "# Average obstruction rate"
   ]
  },
  {
   "cell_type": "code",
   "execution_count": 15,
   "metadata": {},
   "outputs": [
    {
     "data": {
      "text/html": [
       "<div>\n",
       "<style scoped>\n",
       "    .dataframe tbody tr th:only-of-type {\n",
       "        vertical-align: middle;\n",
       "    }\n",
       "\n",
       "    .dataframe tbody tr th {\n",
       "        vertical-align: top;\n",
       "    }\n",
       "\n",
       "    .dataframe thead th {\n",
       "        text-align: right;\n",
       "    }\n",
       "</style>\n",
       "<table border=\"1\" class=\"dataframe\">\n",
       "  <thead>\n",
       "    <tr style=\"text-align: right;\">\n",
       "      <th>obstruction</th>\n",
       "      <th>num_images</th>\n",
       "      <th>construction</th>\n",
       "      <th>cars_standing</th>\n",
       "      <th>cars_moving</th>\n",
       "      <th>humans</th>\n",
       "    </tr>\n",
       "    <tr>\n",
       "      <th>lane_type</th>\n",
       "      <th></th>\n",
       "      <th></th>\n",
       "      <th></th>\n",
       "      <th></th>\n",
       "      <th></th>\n",
       "    </tr>\n",
       "  </thead>\n",
       "  <tbody>\n",
       "    <tr>\n",
       "      <th>sharrow</th>\n",
       "      <td>117</td>\n",
       "      <td>3% [0%, 5%]</td>\n",
       "      <td>4% [1%, 8%]</td>\n",
       "      <td>23% [15%, 31%]</td>\n",
       "      <td>0%</td>\n",
       "    </tr>\n",
       "    <tr>\n",
       "      <th>unprotected</th>\n",
       "      <td>253</td>\n",
       "      <td>1% [0%, 2%]</td>\n",
       "      <td>11% [7%, 14%]</td>\n",
       "      <td>8% [5%, 11%]</td>\n",
       "      <td>2% [0%, 3%]</td>\n",
       "    </tr>\n",
       "    <tr>\n",
       "      <th>partially_protected</th>\n",
       "      <td>90</td>\n",
       "      <td>0%</td>\n",
       "      <td>2% [0%, 5%]</td>\n",
       "      <td>2% [0%, 5%]</td>\n",
       "      <td>0%</td>\n",
       "    </tr>\n",
       "    <tr>\n",
       "      <th>protected</th>\n",
       "      <td>36</td>\n",
       "      <td>0%</td>\n",
       "      <td>0%</td>\n",
       "      <td>0%</td>\n",
       "      <td>14% [3%, 25%]</td>\n",
       "    </tr>\n",
       "  </tbody>\n",
       "</table>\n",
       "</div>"
      ],
      "text/plain": [
       "obstruction          num_images construction  cars_standing     cars_moving  \\\n",
       "lane_type                                                                     \n",
       "sharrow                     117  3% [0%, 5%]    4% [1%, 8%]  23% [15%, 31%]   \n",
       "unprotected                 253  1% [0%, 2%]  11% [7%, 14%]    8% [5%, 11%]   \n",
       "partially_protected          90           0%    2% [0%, 5%]     2% [0%, 5%]   \n",
       "protected                    36           0%             0%              0%   \n",
       "\n",
       "obstruction                 humans  \n",
       "lane_type                           \n",
       "sharrow                         0%  \n",
       "unprotected            2% [0%, 3%]  \n",
       "partially_protected             0%  \n",
       "protected            14% [3%, 25%]  "
      ]
     },
     "execution_count": 15,
     "metadata": {},
     "output_type": "execute_result"
    }
   ],
   "source": [
    "imp.reload(functions)\n",
    "df_some_lanes = df_coded.query('0 < lane_max_int < 4').query('useful').query('classified').copy()\n",
    "\n",
    "# Store this in a dictionary corresponding to the two levels\n",
    "# of the split vars\n",
    "d = {}\n",
    "# Loop over the split var\n",
    "for split_var in functions.cols_classified:\n",
    "        df_var = df_some_lanes.query(f'{split_var}')\n",
    "        # Calculate the mean obstruction and the observation count by obstruction type\n",
    "        res = {}\n",
    "        for obstruction in functions.obstructions:\n",
    "            vals = df_var[obstruction]\n",
    "            d[(split_var, obstruction)] = vals.count(),vals.sum()\n",
    "\n",
    "df = pd.DataFrame(d).T.reset_index()\n",
    "df.columns = ['lane_type', 'obstruction', 'num_images', 'num']\n",
    "df['mean_obstruction'] = df.num / df.num_images\n",
    "\n",
    "# Add the confidence interval for the mean\n",
    "# which can be calculated by formula for a binomial variable\n",
    "df['ci'] = 1.96 * np.sqrt(df.mean_obstruction * (1 - df.mean_obstruction) / df.num_images)\n",
    "\n",
    "# Add upper and lower bounds\n",
    "df['lower'] = df.mean_obstruction - df.ci\n",
    "# If lower is below 0 replace with 0\n",
    "df.loc[df.lower < 0, 'lower'] = 0\n",
    "df['upper'] = df.mean_obstruction + df.ci\n",
    "\n",
    "# Create nicely formatted lift as mean [lower, upper] string\n",
    "df['lift'] = df.apply(lambda r: f\"{r.mean_obstruction*100:.0f}%\" + (f\" [{r.lower*100:.0f}%, {r.upper*100:.0f}%]\" if r.mean_obstruction>0 else \"\"), axis=1)\n",
    "\n",
    "mean_obstruction = df.query('num_images > 10').groupby(['lane_type', 'obstruction']).lift.first().unstack(1)\n",
    "# mean_obstruction['pct_sum'] = mean_obstruction.sum(axis=1)\n",
    "mean_obstruction['num_images'] = df.groupby('lane_type').num_images.min()\n",
    "mean_obstruction.loc[functions.cols_classified, ['num_images'] + functions.obstructions]"
   ]
  },
  {
   "cell_type": "markdown",
   "metadata": {},
   "source": [
    "# Streets"
   ]
  },
  {
   "cell_type": "code",
   "execution_count": 19,
   "metadata": {},
   "outputs": [
    {
     "data": {
      "text/plain": [
       "2724"
      ]
     },
     "execution_count": 19,
     "metadata": {},
     "output_type": "execute_result"
    }
   ],
   "source": [
    "df_streets = functions.get_streets()\n",
    "\n",
    "with open('data/ids_reviewed.txt', 'r') as f:\n",
    "    ids_reviewed = f.read().split('\\n')\n",
    "len(set(ids_reviewed))"
   ]
  },
  {
   "cell_type": "code",
   "execution_count": 20,
   "metadata": {},
   "outputs": [
    {
     "name": "stdout",
     "output_type": "stream",
     "text": [
      "| borough       |   None |   Sharrows |   Standard |   Protected Path |   Greenway |\n",
      "|:--------------|-------:|-----------:|-----------:|-----------------:|-----------:|\n",
      "| Bronx         |     17 |         15 |         66 |               14 |         32 |\n",
      "| Brooklyn      |     36 |         40 |        147 |               30 |         41 |\n",
      "| Manhattan     |     28 |         22 |         58 |               67 |         51 |\n",
      "| Queens        |     38 |         43 |        100 |               39 |         28 |\n",
      "| Staten_Island |     22 |         12 |         16 |                2 |         19 |\n"
     ]
    },
    {
     "data": {
      "text/plain": [
       "useful                   786\n",
       "not_useful              2724\n",
       "total_reviewed          3510\n",
       "kilometers              1601\n",
       "miles                    994\n",
       "meters_per_image         200\n",
       "images_full_coverage    8005\n",
       "percent_coverage           9\n",
       "dtype: int64"
      ]
     },
     "execution_count": 20,
     "metadata": {},
     "output_type": "execute_result"
    }
   ],
   "source": [
    "df_agg = (df_streets\n",
    "          .groupby(['borough', 'lane_max'])\n",
    "          .length_miles.sum()\n",
    "          .unstack(1)\n",
    "          .astype(int)[functions.lanes_dict.values()])\n",
    "print(df_agg.to_markdown())\n",
    "\n",
    "max_dist_meters = 200\n",
    "obs = df_coded.query('useful').__len__()\n",
    "kms = int(df_streets.length_km.sum())\n",
    "full_coverage = kms * 1000 / max_dist_meters\n",
    "\n",
    "obs, kms, full_coverage, int(obs/full_coverage*100)\n",
    "\n",
    "# Summarize this in a dictionary\n",
    "d = {}\n",
    "d['useful'] = obs\n",
    "d['not_useful'] = len(set(ids_reviewed))\n",
    "d['total_reviewed'] = d['useful'] + d['not_useful']\n",
    "d['kilometers'] = kms\n",
    "d['miles'] = int(kms * 0.621371)\n",
    "d['meters_per_image'] = max_dist_meters\n",
    "d['images_full_coverage'] = int(full_coverage)\n",
    "d['percent_coverage'] = int(obs/full_coverage*100)\n",
    "summary = pd.Series(d)\n",
    "summary"
   ]
  },
  {
   "cell_type": "code",
   "execution_count": null,
   "metadata": {},
   "outputs": [],
   "source": []
  }
 ],
 "metadata": {
  "kernelspec": {
   "display_name": ".venv",
   "language": "python",
   "name": "python3"
  },
  "language_info": {
   "codemirror_mode": {
    "name": "ipython",
    "version": 3
   },
   "file_extension": ".py",
   "mimetype": "text/x-python",
   "name": "python",
   "nbconvert_exporter": "python",
   "pygments_lexer": "ipython3",
   "version": "3.11.6"
  }
 },
 "nbformat": 4,
 "nbformat_minor": 2
}
